{
 "cells": [
  {
   "cell_type": "code",
   "execution_count": 2,
   "id": "2a974649",
   "metadata": {},
   "outputs": [],
   "source": [
    "# Importing zone\n",
    "import argparse\n",
    "import tensorflow as tf\n",
    "import numpy as np\n",
    "import os\n",
    "import platform\n",
    "import matplotlib.pyplot as plt\n",
    "from time import time\n",
    "from tensorflow import keras\n",
    "import psutil\n",
    "import cpuinfo #ver como instalarlas"
   ]
  },
  {
   "cell_type": "markdown",
   "id": "6c2f54e1",
   "metadata": {},
   "source": []
  },
  {
   "cell_type": "code",
   "execution_count": null,
   "id": "c6f227ce",
   "metadata": {},
   "outputs": [],
   "source": [
    "# Pseudocode\n",
    "\n",
    "# A code with different options to use in the command line\n",
    "# scan: (optional) scan the hardware to tell the user if the machine has more than a CPU or a GPU or more\n",
    "# Training: (default=fminist) Choose the training dataset used for the benchmark\n",
    "# processor: (default = 1) Choose the hardware in which run the benchmark\n",
    "\n",
    "# no ponerlo como opcion, hasta el final\n",
    "# save: (optional, deflault=false) if true save the results in an actualizable list score, need a provided name to identify the score"
   ]
  },
  {
   "cell_type": "code",
   "execution_count": 4,
   "id": "49145841",
   "metadata": {},
   "outputs": [
    {
     "name": "stdout",
     "output_type": "stream",
     "text": [
      "CPU data:\n",
      "{'python_version': '3.10.11.final.0 (64 bit)', 'cpuinfo_version': [9, 0, 0], 'cpuinfo_version_string': '9.0.0', 'arch': 'X86_64', 'bits': 64, 'count': 8, 'arch_string_raw': 'AMD64', 'vendor_id_raw': 'GenuineIntel', 'brand_raw': '11th Gen Intel(R) Core(TM) i7-11370H @ 3.30GHz', 'hz_advertised_friendly': '3.3000 GHz', 'hz_actual_friendly': '3.3020 GHz', 'hz_advertised': [3300000000, 0], 'hz_actual': [3302000000, 0], 'l2_cache_size': 5242880, 'stepping': 1, 'model': 140, 'family': 6, 'l3_cache_size': 12582912, 'flags': ['3dnow', '3dnowprefetch', 'abm', 'acpi', 'adx', 'aes', 'apic', 'avx', 'avx2', 'avx512bitalg', 'avx512bw', 'avx512cd', 'avx512dq', 'avx512f', 'avx512ifma', 'avx512vbmi', 'avx512vbmi2', 'avx512vl', 'avx512vnni', 'avx512vpopcntdq', 'bmi1', 'bmi2', 'clflush', 'clflushopt', 'clwb', 'cmov', 'cx16', 'cx8', 'de', 'ds_cpl', 'dtes64', 'dts', 'erms', 'est', 'f16c', 'fma', 'fpu', 'fxsr', 'gfni', 'ht', 'ia64', 'intel_pt', 'invpcid', 'lahf_lm', 'mca', 'mce', 'mmx', 'monitor', 'movbe', 'msr', 'mtrr', 'osxsave', 'pae', 'pat', 'pbe', 'pcid', 'pclmulqdq', 'pdcm', 'pge', 'pku', 'pni', 'popcnt', 'pqe', 'pse', 'pse36', 'rdpid', 'rdrnd', 'rdseed', 'sep', 'serial', 'sha', 'smap', 'smep', 'ss', 'sse', 'sse2', 'sse4_1', 'sse4_2', 'ssse3', 'tm', 'tm2', 'tsc', 'tscdeadline', 'umip', 'vaes', 'vme', 'vmx', 'vpclmulqdq', 'x2apic', 'xsave', 'xtpr'], 'l2_cache_line_size': 256, 'l2_cache_associativity': 7}\n"
     ]
    }
   ],
   "source": [
    "# Pruebas\n",
    "cpu_info = cpuinfo.get_cpu_info()\n",
    "print(f\"CPU data:\\n{cpu_info}\")\n"
   ]
  },
  {
   "cell_type": "code",
   "execution_count": null,
   "id": "73e50bad",
   "metadata": {},
   "outputs": [],
   "source": [
    "# Function declaration zone\n",
    "def scan_hardware():\n",
    "    # Obtener información de la CPU\n",
    "    cpu_info = psutil.cpuinfo.get_cpu_info()\n",
    "    print(f\"CPU data:\\n{cpu_info}\")\n",
    "\n",
    "    # Obtener información de la GPU (si está disponible)\n",
    "    if hasattr(psutil, 'sensors_gpu'):\n",
    "        gpu_info = psutil.sensors_gpu()\n",
    "        print(f\"GPU data:\\n{gpu_info}\")\n",
    "    else:\n",
    "        print(f\"GPU not found\")\n",
    "\n",
    "    # Obtener información de la memoria RAM\n",
    "    mem_info = psutil.virtual_memory()\n",
    "    print(f\"RAM data:\\n{mem_info}\")\n"
   ]
  },
  {
   "cell_type": "code",
   "execution_count": null,
   "id": "fc413189",
   "metadata": {},
   "outputs": [],
   "source": [
    "# Parser zone\n",
    "\n",
    "def argument_parser():\n",
    "        # Zona de declaración\n",
    "    parser = argparse.ArgumentParser(\n",
    "        prog='benchmark_v1.py',\n",
    "        description='A program for testing the speed training of ML models with tensorflow',\n",
    "        epilog='This program uses tensorflow and sklearn to train ML models, in the CPU(s) or/and in the GPU(s)')\n",
    "    \n",
    "    # Crear subparsers\n",
    "    scan_subparser = parser.add_subparsers(title='Scan', dest='subcommand', help='scan subcommands')\n",
    "    show_subparser = parser.add_subparsers(title='Show', dest='subcommand', help='display the list of saved benchmarks')\n",
    "    run_subparser  = parser.add_subparsers(title='Run', dest='subcommand', help='options for running the current benchmark')\n",
    "    save_subparser = parser.add_subparsers(title='Save', dest='subcommand', help='save current benchmark')\n",
    "\n",
    "    # Creo el parser para escanear el hardware\n",
    "    scan_parser = scan_subparser.add_parser('scan', help='Scan the current hardware')\n",
    "    \n",
    "    #### Hasta aquí bien ####\n",
    "    parser.add_argument('-i','--iter', help=\"Number of repeated trainings for each algorithm (defaullt = 100)\",\n",
    "    action='store_const',type=int,default=100,dest='iter',metavar='Iterations')\n",
    "    device_subparser = parser.add_subparsers(\n",
    "        title='Hardware and training commands',\n",
    "        description='subcommands options for selecting the working hardware',\n",
    "        help=\"In order to use this command there are some few things to be aware of:\",\n",
    "        required=True, dest='hardware')\n",
    "    parser_both = device_subparser.add_parser('both')\n",
    "    parser_cpu = device_subparser.add_parser('cpu')\n",
    "    parser_gpu = device_subparser.add_parser('gpu')\n",
    "    parser.add_argument('--venv', help=\"create a virtual environment for easy installing and uninstalling libraries\",\n",
    "    )\n",
    "    parser.add_argument('-S','--save', help=\"\")\n",
    "    args = parser.parse_args()\n",
    "    return args\n"
   ]
  },
  {
   "cell_type": "code",
   "execution_count": null,
   "id": "16cd3802",
   "metadata": {},
   "outputs": [],
   "source": [
    "if __name__ == \"__main__\":\n",
    "    ## Este es el que será el código final, pero estamos entendiendo el argparser\n",
    "    args = argument_parser()\n",
    "    if args.subcommand == 'scan':\n",
    "        scan_hardware()"
   ]
  }
 ],
 "metadata": {
  "kernelspec": {
   "display_name": "Python 3.10.11 64-bit (microsoft store)",
   "language": "python",
   "name": "python3"
  },
  "language_info": {
   "codemirror_mode": {
    "name": "ipython",
    "version": 3
   },
   "file_extension": ".py",
   "mimetype": "text/x-python",
   "name": "python",
   "nbconvert_exporter": "python",
   "pygments_lexer": "ipython3",
   "version": "3.10.11"
  },
  "vscode": {
   "interpreter": {
    "hash": "90d65ce970d298ee3b227cb3f07ac66847414bc42ea3d7cfc3ec2925f855c83e"
   }
  }
 },
 "nbformat": 4,
 "nbformat_minor": 5
}
