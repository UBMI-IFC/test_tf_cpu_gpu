{
 "cells": [
  {
   "cell_type": "code",
   "execution_count": 1,
   "id": "2a974649",
   "metadata": {},
   "outputs": [],
   "source": [
    "# Importing zone\n",
    "import argparse\n",
    "import tensorflow as tf\n",
    "from tensorflow import keras\n",
    "import numpy as np\n",
    "import matplotlib.pyplot as plt\n",
    "from time import time"
   ]
  },
  {
   "cell_type": "code",
   "execution_count": null,
   "id": "c6f227ce",
   "metadata": {},
   "outputs": [],
   "source": [
    "# Pseudocode\n",
    "\n",
    "# A code with different options to use in the command line\n",
    "# scan: (optional) scan the hardware to tell the user if the machine has more than a CPU or a GPU or more\n",
    "# Training: (default=fminist) Choose the training dataset used for the benchmark\n",
    "# processor: (default = 1) Choose the hardware in which run the benchmark\n",
    "\n",
    "# no ponerlo como opcion, hasta el final\n",
    "# save: (optional, deflault=false) if true save the results in an actualizable list score, need a provided name to identify the score"
   ]
  },
  {
   "cell_type": "code",
   "execution_count": null,
   "id": "fc413189",
   "metadata": {},
   "outputs": [],
   "source": [
    "# Function declaration zone\n",
    "\n",
    "def argument_parser():\n",
    "        # Zona de declaración\n",
    "    parser = argparse.ArgumentParser(\n",
    "        prog='benchmark_v1.py',\n",
    "        description='A program for testing the speed training of ML models with tensorflow',\n",
    "        epilog='This program uses tensorflow and sklearn to train ML models, in the CPU(s) or/and in the GPU(s)')\n",
    "    subparser1 = parser.add_subparsers()\n",
    "    scan_parser = subparser1.add_parser('scan')\n",
    "    scan_parser.add_argument()\n",
    "    parser.add_argument('-i','--iter', help=\"Number of repeated trainings for each algorithm (defaullt = 100)\",\n",
    "    action='store_const',type=int,default=100,dest='iter',metavar='Iterations')\n",
    "    device_subparser = parser.add_subparsers(\n",
    "        title='Hardware and training commands',\n",
    "        description='subcommands options for selecting the working hardware',\n",
    "        help=\"In order to use this command there are some few things to be aware of:\",\n",
    "        required=True, dest='hardware')\n",
    "    parser_both = device_subparser.add_parser('both')\n",
    "    parser_cpu = device_subparser.add_parser('cpu')\n",
    "    parser_gpu = device_subparser.add_parser('gpu')\n",
    "    parser.add_argument('--venv', help=\"create a virtual environment for easy installing and uninstalling libraries\",\n",
    "    )\n",
    "    parser.add_argument('-S','--save', help=\"\")\n",
    "    args = parser.parse_args()\n",
    "    return args\n"
   ]
  },
  {
   "cell_type": "code",
   "execution_count": null,
   "id": "16cd3802",
   "metadata": {},
   "outputs": [],
   "source": [
    "if __name__ == \"__main__\":\n",
    "    ## Este es el que será el código final, pero estamos entendiendo el argparser\n",
    "    parser = argument_parser()\n",
    "    if parser.scan"
   ]
  }
 ],
 "metadata": {
  "kernelspec": {
   "display_name": "Python 3.10.10 64-bit (microsoft store)",
   "language": "python",
   "name": "python3"
  },
  "language_info": {
   "codemirror_mode": {
    "name": "ipython",
    "version": 3
   },
   "file_extension": ".py",
   "mimetype": "text/x-python",
   "name": "python",
   "nbconvert_exporter": "python",
   "pygments_lexer": "ipython3",
   "version": "3.10.11"
  },
  "vscode": {
   "interpreter": {
    "hash": "90d65ce970d298ee3b227cb3f07ac66847414bc42ea3d7cfc3ec2925f855c83e"
   }
  }
 },
 "nbformat": 4,
 "nbformat_minor": 5
}
