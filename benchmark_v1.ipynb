{
 "cells": [
  {
   "cell_type": "code",
   "execution_count": 3,
   "id": "2a974649",
   "metadata": {},
   "outputs": [],
   "source": [
    "# Importing zone\n",
    "# for creating the arguments\n",
    "import argparse\n",
    "# basic data libraries\n",
    "import numpy as np\n",
    "import pandas as pd\n",
    "import matplotlib.pyplot as plt\n",
    "# for accessing the hardware info\n",
    "import platform\n",
    "import psutil                       #pip install psutil\n",
    "import cpuinfo                      #pip install py-cpuinfo\n",
    "# for ml models\n",
    "import tensorflow as tf\n",
    "from tensorflow import keras\n",
    "# misc libraries\n",
    "import multiprocessing\n",
    "import os\n",
    "from time import time\n"
   ]
  },
  {
   "cell_type": "code",
   "execution_count": null,
   "id": "c6f227ce",
   "metadata": {},
   "outputs": [],
   "source": [
    "# Pseudocode\n",
    "\n",
    "# A code with different options to use in the command line\n",
    "# scan: (optional) scan the hardware to tell the user if the machine has more than a CPU or a GPU or more\n",
    "# its a good idea to create a dictionary to save the information of the system\n",
    "# Training: (default=fminist) Choose the training dataset used for the benchmark\n",
    "# processor: (default = 1) Choose the hardware in which run the benchmark\n",
    "\n",
    "# no ponerlo como opcion, hasta el final\n",
    "# save: (optional, deflault=false) if true save the results in an actualizable list score, need a provided name to identify the score"
   ]
  },
  {
   "cell_type": "code",
   "execution_count": 8,
   "id": "49145841",
   "metadata": {},
   "outputs": [
    {
     "name": "stdout",
     "output_type": "stream",
     "text": [
      "Architecture: ('64bit', 'WindowsPE')\n",
      "Network name: AlbanesIdeaPad\n",
      "Operating System: Windows-10-10.0.22621-SP0\n",
      "CPU name: 11th Gen Intel(R) Core(TM) i7-11370H @ 3.30GHz\n",
      "CPU speed: 3.3020 GHz\n",
      "RAM memory:  15.79 GB\n",
      "GPU not found\n"
     ]
    }
   ],
   "source": [
    "# Pruebas\n",
    "\n",
    "\n",
    "# print(multiprocessing.cpu_count())\n",
    "# print(os.cpu_count())\n",
    "# print(cpuinfo.get_cpu_info())\n",
    "\n",
    "# Las metricas que necesito\n",
    "print(f\"Architecture: {platform.architecture()}\")   #Arquitectura ***\n",
    "print(f\"Network name: {platform.node()}\")           #Nombre del equipo ****\n",
    "print(f\"Operating System: {platform.platform()}\")   #Sistema operativo\n",
    "\n",
    "cpu_info = cpuinfo.get_cpu_info()\n",
    "print(f\"CPU name: {cpu_info['brand_raw']}\")                  #Nombre del procesador ****\n",
    "print(f\"CPU speed: {cpu_info['hz_actual_friendly']}\")        #Velocidad del procesador\n",
    "# print(f\"CPU data:\\n{cpu_info['hz_advertised_friendly']}\")\n",
    "# print(cpu_info.keys())\n",
    "\n",
    "print(f\"RAM memory: {psutil.virtual_memory().total / 1024 /1024 / 1024: .2f} GB\") #RAM ****\n",
    "\n",
    "if hasattr(psutil, 'sensors_gpu'):\n",
    "    gpu_info = psutil.sensors_gpu()\n",
    "    print(f\"GPU data:\\n{gpu_info}\")\n",
    "else:\n",
    "    print(f\"GPU not found\")"
   ]
  },
  {
   "cell_type": "code",
   "execution_count": 5,
   "id": "73e50bad",
   "metadata": {},
   "outputs": [],
   "source": [
    "# Function declaration zone\n",
    "def scan_hardware():\n",
    "    # Obtener información de la CPU\n",
    "    cpu_info = psutil.cpuinfo.get_cpu_info()\n",
    "    print(f\"System name: {platform.node()}\")\n",
    "    print(f\"CPU data:\\n{cpu_info['brand_raw']}\")\n",
    "    print(f\"CPU speed: {cpu_info['hz_actual_friendly']}\")\n",
    "    print(f\"Architecture: {platform.architecture()}\")\n",
    "    \n",
    "\n",
    "    # Obtener información de la GPU (si está disponible)\n",
    "    if hasattr(psutil, 'sensors_gpu'):\n",
    "        gpu_info = psutil.sensors_gpu()\n",
    "        print(f\"GPU data:\\n{gpu_info}\")\n",
    "    else:\n",
    "        print(f\"GPU not found\")\n",
    "\n",
    "    # Obtener información de la memoria RAM\n",
    "    print(f\"RAM memory: {psutil.virtual_memory().total / 1024 /1024 / 1024: .2f} GB\") #RAM ****\n"
   ]
  },
  {
   "cell_type": "code",
   "execution_count": null,
   "id": "fc413189",
   "metadata": {},
   "outputs": [],
   "source": [
    "# Parser zone\n",
    "\n",
    "def argument_parser():\n",
    "        # Zona de declaración\n",
    "    parser = argparse.ArgumentParser(\n",
    "        prog='benchmark_v1.py',\n",
    "        description='A program for testing the speed training of ML models with tensorflow',\n",
    "        epilog='This program uses tensorflow and sklearn to train ML models, in the CPU(s) or/and in the GPU(s)')\n",
    "    \n",
    "    # Crear subparsers\n",
    "    scan_subparser = parser.add_subparsers(title='Scan', dest='subcommand', help='scan subcommands')\n",
    "    show_subparser = parser.add_subparsers(title='Show', dest='subcommand', help='display the list of saved benchmarks')\n",
    "    run_subparser  = parser.add_subparsers(title='Run', dest='subcommand', help='options for running the current benchmark')\n",
    "    save_subparser = parser.add_subparsers(title='Save', dest='subcommand', help='save current benchmark')\n",
    "\n",
    "    # Creo el parser para escanear el hardware\n",
    "    scan_parser = scan_subparser.add_parser('scan', help='Scan the current hardware')\n",
    "    \n",
    "    #### Hasta aquí bien ####\n",
    "    parser.add_argument('-i','--iter', help=\"Number of repeated trainings for each algorithm (defaullt = 100)\",\n",
    "    action='store_const',type=int,default=100,dest='iter',metavar='Iterations')\n",
    "    device_subparser = parser.add_subparsers(\n",
    "        title='Hardware and training commands',\n",
    "        description='subcommands options for selecting the working hardware',\n",
    "        help=\"In order to use this command there are some few things to be aware of:\",\n",
    "        required=True, dest='hardware')\n",
    "    parser_both = device_subparser.add_parser('both')\n",
    "    parser_cpu = device_subparser.add_parser('cpu')\n",
    "    parser_gpu = device_subparser.add_parser('gpu')\n",
    "    parser.add_argument('--venv', help=\"create a virtual environment for easy installing and uninstalling libraries\",\n",
    "    )\n",
    "    parser.add_argument('-S','--save', help=\"\")\n",
    "    args = parser.parse_args()\n",
    "    return args\n"
   ]
  },
  {
   "cell_type": "code",
   "execution_count": null,
   "id": "16cd3802",
   "metadata": {},
   "outputs": [],
   "source": [
    "if __name__ == \"__main__\":\n",
    "    ## Este es el que será el código final, pero estamos entendiendo el argparser\n",
    "    args = argument_parser()\n",
    "    if args.subcommand == 'scan':\n",
    "        scan_hardware()"
   ]
  }
 ],
 "metadata": {
  "kernelspec": {
   "display_name": "Python 3.10.11 64-bit (microsoft store)",
   "language": "python",
   "name": "python3"
  },
  "language_info": {
   "codemirror_mode": {
    "name": "ipython",
    "version": 3
   },
   "file_extension": ".py",
   "mimetype": "text/x-python",
   "name": "python",
   "nbconvert_exporter": "python",
   "pygments_lexer": "ipython3",
   "version": "3.10.11"
  },
  "vscode": {
   "interpreter": {
    "hash": "90d65ce970d298ee3b227cb3f07ac66847414bc42ea3d7cfc3ec2925f855c83e"
   }
  }
 },
 "nbformat": 4,
 "nbformat_minor": 5
}
