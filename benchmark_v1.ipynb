{
 "cells": [
  {
   "cell_type": "code",
   "execution_count": 1,
   "id": "2a974649",
   "metadata": {},
   "outputs": [],
   "source": [
    "# Importing zone\n",
    "import argparse"
   ]
  },
  {
   "cell_type": "code",
   "execution_count": null,
   "id": "c6f227ce",
   "metadata": {},
   "outputs": [],
   "source": [
    "# Pseudocode\n",
    "\n",
    "# A code with different options to use in the command line\n",
    "# scan: (optional) scan the hardware to tell the user if the machine has more than a CPU or a GPU or more\n",
    "# Training: (default=fminist) Choose the training dataset used for the benchmark\n",
    "# processor: (default = 1) Choose the hardware in which run the benchmark\n",
    "# save: (optional, deflault=false) if true save the results in an actualizable list score, need a provided name to identify the score"
   ]
  },
  {
   "cell_type": "code",
   "execution_count": null,
   "id": "fc413189",
   "metadata": {},
   "outputs": [],
   "source": [
    "# Function declaration zone\n",
    "\n",
    "def argument_parser():\n",
    "        # Zona de declaración\n",
    "    parser = argparse.ArgumentParser(\n",
    "        prog='Benchmark_version_01.py',\n",
    "        description='A program for testing the speed training of ML models with tensorflow',\n",
    "        epilog='Tell hoy to use the program to the user')\n",
    "    parser.add_argument(\"\")\n",
    "    return ('...')\n"
   ]
  },
  {
   "cell_type": "code",
   "execution_count": null,
   "id": "16cd3802",
   "metadata": {},
   "outputs": [],
   "source": [
    "if __name__ == \"__main__\":\n",
    "    ## Este es el que será el código final, pero estamos entendiendo el argparser\n",
    "    print(\"xxxxxxx\")"
   ]
  }
 ],
 "metadata": {
  "kernelspec": {
   "display_name": "Python 3 (ipykernel)",
   "language": "python",
   "name": "python3"
  },
  "language_info": {
   "codemirror_mode": {
    "name": "ipython",
    "version": 3
   },
   "file_extension": ".py",
   "mimetype": "text/x-python",
   "name": "python",
   "nbconvert_exporter": "python",
   "pygments_lexer": "ipython3",
   "version": "3.9.13"
  }
 },
 "nbformat": 4,
 "nbformat_minor": 5
}
